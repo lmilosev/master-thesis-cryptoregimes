{
 "cells": [
  {
   "cell_type": "markdown",
   "id": "d206925e-d48c-47c0-891f-c67ed1e16b41",
   "metadata": {},
   "source": [
    "## Determination of Two Regimes and Creation of Regime Labels with ML Techniques"
   ]
  },
  {
   "cell_type": "code",
   "execution_count": 1,
   "id": "080e5248-f936-4c7f-82ee-d841a9837193",
   "metadata": {},
   "outputs": [],
   "source": [
    "import torch.nn as nn\n",
    "import matplotlib.pyplot as plt\n",
    "import pandas as pd\n",
    "import numpy as np\n",
    "import seaborn as sns\n",
    "from hmmlearn.hmm import GaussianHMM\n",
    "import os\n",
    "from tqdm import tqdm\n",
    "from sklearn.cluster import AgglomerativeClustering, KMeans\n",
    "from sklearn.mixture import GaussianMixture\n",
    "import math\n",
    "\n",
    "import logging.config\n",
    "logging.config.dictConfig({'version': 1, 'disable_existing_loggers': True})"
   ]
  },
  {
   "cell_type": "code",
   "execution_count": 2,
   "id": "941be780-c99d-45d9-a046-26511c909d95",
   "metadata": {},
   "outputs": [
    {
     "data": {
      "text/html": [
       "<div>\n",
       "<style scoped>\n",
       "    .dataframe tbody tr th:only-of-type {\n",
       "        vertical-align: middle;\n",
       "    }\n",
       "\n",
       "    .dataframe tbody tr th {\n",
       "        vertical-align: top;\n",
       "    }\n",
       "\n",
       "    .dataframe thead th {\n",
       "        text-align: right;\n",
       "    }\n",
       "</style>\n",
       "<table border=\"1\" class=\"dataframe\">\n",
       "  <thead>\n",
       "    <tr style=\"text-align: right;\">\n",
       "      <th></th>\n",
       "      <th>AdrActCnt</th>\n",
       "      <th>AdrBal1in100KCnt</th>\n",
       "      <th>AdrBal1in10KCnt</th>\n",
       "      <th>AdrBal1in10MCnt</th>\n",
       "      <th>AdrBal1in1KCnt</th>\n",
       "      <th>AdrBal1in1MCnt</th>\n",
       "      <th>AdrBalNtv100Cnt</th>\n",
       "      <th>AdrBalNtv100KCnt</th>\n",
       "      <th>AdrBalNtv10Cnt</th>\n",
       "      <th>AdrBalNtv10KCnt</th>\n",
       "      <th>...</th>\n",
       "      <th>NVT Ratio (with Transaction Volume)_btc</th>\n",
       "      <th>Circulation NVT_btc</th>\n",
       "      <th>Realized Cap_btc</th>\n",
       "      <th>Realized Cap (7d)_btc</th>\n",
       "      <th>Realized Cap (30d)_btc</th>\n",
       "      <th>Realized Cap (90d)_btc</th>\n",
       "      <th>Realized Cap (60d)_btc</th>\n",
       "      <th>Realized Cap (180d)_btc</th>\n",
       "      <th>Realized Cap (365d)_btc</th>\n",
       "      <th>Stock to Flow ratio_btc</th>\n",
       "    </tr>\n",
       "    <tr>\n",
       "      <th>date</th>\n",
       "      <th></th>\n",
       "      <th></th>\n",
       "      <th></th>\n",
       "      <th></th>\n",
       "      <th></th>\n",
       "      <th></th>\n",
       "      <th></th>\n",
       "      <th></th>\n",
       "      <th></th>\n",
       "      <th></th>\n",
       "      <th></th>\n",
       "      <th></th>\n",
       "      <th></th>\n",
       "      <th></th>\n",
       "      <th></th>\n",
       "      <th></th>\n",
       "      <th></th>\n",
       "      <th></th>\n",
       "      <th></th>\n",
       "      <th></th>\n",
       "      <th></th>\n",
       "    </tr>\n",
       "  </thead>\n",
       "  <tbody>\n",
       "    <tr>\n",
       "      <th>2017-01-02</th>\n",
       "      <td>2.759253e+06</td>\n",
       "      <td>248441.000000</td>\n",
       "      <td>47491.857143</td>\n",
       "      <td>5.049924e+06</td>\n",
       "      <td>6119.000000</td>\n",
       "      <td>1.518931e+06</td>\n",
       "      <td>4.154845e+06</td>\n",
       "      <td>141332.428571</td>\n",
       "      <td>8.292783e+06</td>\n",
       "      <td>6.065049e+05</td>\n",
       "      <td>...</td>\n",
       "      <td>11.497847</td>\n",
       "      <td>48.017291</td>\n",
       "      <td>6.879978e+09</td>\n",
       "      <td>8.826018e+08</td>\n",
       "      <td>1.656658e+09</td>\n",
       "      <td>2.542547e+09</td>\n",
       "      <td>2.175202e+09</td>\n",
       "      <td>3.259974e+09</td>\n",
       "      <td>4.264022e+09</td>\n",
       "      <td>23.050918</td>\n",
       "    </tr>\n",
       "    <tr>\n",
       "      <th>2017-01-09</th>\n",
       "      <td>9.889732e+06</td>\n",
       "      <td>871727.857143</td>\n",
       "      <td>166387.428571</td>\n",
       "      <td>1.767255e+07</td>\n",
       "      <td>21509.857143</td>\n",
       "      <td>5.316332e+06</td>\n",
       "      <td>1.454555e+07</td>\n",
       "      <td>494483.857143</td>\n",
       "      <td>2.903374e+07</td>\n",
       "      <td>2.124377e+06</td>\n",
       "      <td>...</td>\n",
       "      <td>11.497847</td>\n",
       "      <td>48.017291</td>\n",
       "      <td>6.879978e+09</td>\n",
       "      <td>8.826018e+08</td>\n",
       "      <td>1.656658e+09</td>\n",
       "      <td>2.542547e+09</td>\n",
       "      <td>2.175202e+09</td>\n",
       "      <td>3.259974e+09</td>\n",
       "      <td>4.264022e+09</td>\n",
       "      <td>23.050918</td>\n",
       "    </tr>\n",
       "    <tr>\n",
       "      <th>2017-01-16</th>\n",
       "      <td>9.845421e+06</td>\n",
       "      <td>876928.142857</td>\n",
       "      <td>166228.000000</td>\n",
       "      <td>1.767422e+07</td>\n",
       "      <td>21499.857143</td>\n",
       "      <td>5.314798e+06</td>\n",
       "      <td>1.456219e+07</td>\n",
       "      <td>494053.714286</td>\n",
       "      <td>2.906592e+07</td>\n",
       "      <td>2.124969e+06</td>\n",
       "      <td>...</td>\n",
       "      <td>11.135487</td>\n",
       "      <td>52.253038</td>\n",
       "      <td>6.952027e+09</td>\n",
       "      <td>8.584415e+08</td>\n",
       "      <td>1.747843e+09</td>\n",
       "      <td>2.640501e+09</td>\n",
       "      <td>2.259350e+09</td>\n",
       "      <td>3.337645e+09</td>\n",
       "      <td>4.339008e+09</td>\n",
       "      <td>23.206170</td>\n",
       "    </tr>\n",
       "    <tr>\n",
       "      <th>2017-01-23</th>\n",
       "      <td>9.841003e+06</td>\n",
       "      <td>882297.857143</td>\n",
       "      <td>166445.000000</td>\n",
       "      <td>1.771058e+07</td>\n",
       "      <td>21526.428571</td>\n",
       "      <td>5.318879e+06</td>\n",
       "      <td>1.456741e+07</td>\n",
       "      <td>493311.142857</td>\n",
       "      <td>2.908759e+07</td>\n",
       "      <td>2.122200e+06</td>\n",
       "      <td>...</td>\n",
       "      <td>13.263055</td>\n",
       "      <td>62.507007</td>\n",
       "      <td>6.977276e+09</td>\n",
       "      <td>6.752914e+08</td>\n",
       "      <td>1.736224e+09</td>\n",
       "      <td>2.654568e+09</td>\n",
       "      <td>2.270288e+09</td>\n",
       "      <td>3.359355e+09</td>\n",
       "      <td>4.354986e+09</td>\n",
       "      <td>23.586007</td>\n",
       "    </tr>\n",
       "    <tr>\n",
       "      <th>2017-01-30</th>\n",
       "      <td>1.004979e+07</td>\n",
       "      <td>886092.142857</td>\n",
       "      <td>166745.857143</td>\n",
       "      <td>1.772873e+07</td>\n",
       "      <td>21664.285714</td>\n",
       "      <td>5.324168e+06</td>\n",
       "      <td>1.453396e+07</td>\n",
       "      <td>493560.142857</td>\n",
       "      <td>2.906041e+07</td>\n",
       "      <td>2.121745e+06</td>\n",
       "      <td>...</td>\n",
       "      <td>15.584666</td>\n",
       "      <td>59.141003</td>\n",
       "      <td>7.051892e+09</td>\n",
       "      <td>6.443858e+08</td>\n",
       "      <td>1.723002e+09</td>\n",
       "      <td>2.694323e+09</td>\n",
       "      <td>2.305593e+09</td>\n",
       "      <td>3.404450e+09</td>\n",
       "      <td>4.415296e+09</td>\n",
       "      <td>22.095225</td>\n",
       "    </tr>\n",
       "  </tbody>\n",
       "</table>\n",
       "<p>5 rows × 190 columns</p>\n",
       "</div>"
      ],
      "text/plain": [
       "               AdrActCnt  AdrBal1in100KCnt  AdrBal1in10KCnt  AdrBal1in10MCnt  \\\n",
       "date                                                                           \n",
       "2017-01-02  2.759253e+06     248441.000000     47491.857143     5.049924e+06   \n",
       "2017-01-09  9.889732e+06     871727.857143    166387.428571     1.767255e+07   \n",
       "2017-01-16  9.845421e+06     876928.142857    166228.000000     1.767422e+07   \n",
       "2017-01-23  9.841003e+06     882297.857143    166445.000000     1.771058e+07   \n",
       "2017-01-30  1.004979e+07     886092.142857    166745.857143     1.772873e+07   \n",
       "\n",
       "            AdrBal1in1KCnt  AdrBal1in1MCnt  AdrBalNtv100Cnt  AdrBalNtv100KCnt  \\\n",
       "date                                                                            \n",
       "2017-01-02     6119.000000    1.518931e+06     4.154845e+06     141332.428571   \n",
       "2017-01-09    21509.857143    5.316332e+06     1.454555e+07     494483.857143   \n",
       "2017-01-16    21499.857143    5.314798e+06     1.456219e+07     494053.714286   \n",
       "2017-01-23    21526.428571    5.318879e+06     1.456741e+07     493311.142857   \n",
       "2017-01-30    21664.285714    5.324168e+06     1.453396e+07     493560.142857   \n",
       "\n",
       "            AdrBalNtv10Cnt  AdrBalNtv10KCnt  ...  \\\n",
       "date                                         ...   \n",
       "2017-01-02    8.292783e+06     6.065049e+05  ...   \n",
       "2017-01-09    2.903374e+07     2.124377e+06  ...   \n",
       "2017-01-16    2.906592e+07     2.124969e+06  ...   \n",
       "2017-01-23    2.908759e+07     2.122200e+06  ...   \n",
       "2017-01-30    2.906041e+07     2.121745e+06  ...   \n",
       "\n",
       "            NVT Ratio (with Transaction Volume)_btc  Circulation NVT_btc  \\\n",
       "date                                                                       \n",
       "2017-01-02                                11.497847            48.017291   \n",
       "2017-01-09                                11.497847            48.017291   \n",
       "2017-01-16                                11.135487            52.253038   \n",
       "2017-01-23                                13.263055            62.507007   \n",
       "2017-01-30                                15.584666            59.141003   \n",
       "\n",
       "            Realized Cap_btc  Realized Cap (7d)_btc  Realized Cap (30d)_btc  \\\n",
       "date                                                                          \n",
       "2017-01-02      6.879978e+09           8.826018e+08            1.656658e+09   \n",
       "2017-01-09      6.879978e+09           8.826018e+08            1.656658e+09   \n",
       "2017-01-16      6.952027e+09           8.584415e+08            1.747843e+09   \n",
       "2017-01-23      6.977276e+09           6.752914e+08            1.736224e+09   \n",
       "2017-01-30      7.051892e+09           6.443858e+08            1.723002e+09   \n",
       "\n",
       "            Realized Cap (90d)_btc  Realized Cap (60d)_btc  \\\n",
       "date                                                         \n",
       "2017-01-02            2.542547e+09            2.175202e+09   \n",
       "2017-01-09            2.542547e+09            2.175202e+09   \n",
       "2017-01-16            2.640501e+09            2.259350e+09   \n",
       "2017-01-23            2.654568e+09            2.270288e+09   \n",
       "2017-01-30            2.694323e+09            2.305593e+09   \n",
       "\n",
       "            Realized Cap (180d)_btc  Realized Cap (365d)_btc  \\\n",
       "date                                                           \n",
       "2017-01-02             3.259974e+09             4.264022e+09   \n",
       "2017-01-09             3.259974e+09             4.264022e+09   \n",
       "2017-01-16             3.337645e+09             4.339008e+09   \n",
       "2017-01-23             3.359355e+09             4.354986e+09   \n",
       "2017-01-30             3.404450e+09             4.415296e+09   \n",
       "\n",
       "            Stock to Flow ratio_btc  \n",
       "date                                 \n",
       "2017-01-02                23.050918  \n",
       "2017-01-09                23.050918  \n",
       "2017-01-16                23.206170  \n",
       "2017-01-23                23.586007  \n",
       "2017-01-30                22.095225  \n",
       "\n",
       "[5 rows x 190 columns]"
      ]
     },
     "execution_count": 2,
     "metadata": {},
     "output_type": "execute_result"
    }
   ],
   "source": [
    "df = pd.read_csv('/home/lmilo_ext/Data/prepared_data.csv')\n",
    "df['date'] = pd.to_datetime(df['date'])\n",
    "df.set_index('date', inplace=True)\n",
    "df.head()"
   ]
  },
  {
   "cell_type": "code",
   "execution_count": 3,
   "id": "bdbfd4ff-0a98-4d7e-b2ca-a5288f73ceb6",
   "metadata": {},
   "outputs": [],
   "source": [
    "df_determination = df.copy()"
   ]
  },
  {
   "cell_type": "code",
   "execution_count": 4,
   "id": "f16548b9-c97d-45ce-850c-a0ba469ff86a",
   "metadata": {},
   "outputs": [],
   "source": [
    "# Adapted from Aramyan et al. (2023): https://developers.lseg.com/en/article-catalog/article/market-regime-detection\n",
    "def data_preparation(df_determination, ma):\n",
    "    \n",
    "    column_name = 'ReferenceRate'\n",
    "    column_name_ma = f'{column_name}_ma'\n",
    "    column_name_log_return = f'{column_name}_log_return'\n",
    "\n",
    "    # Use .loc to assign values instead of chained indexing\n",
    "    df_determination.loc[:, column_name_ma] = df_determination[column_name].rolling(ma, min_periods=1).mean().copy()\n",
    "    df_determination.loc[:, column_name_log_return] = np.log(df_determination[column_name_ma] / df_determination[column_name_ma].shift(1)).dropna().copy()\n",
    "\n",
    "    df_determination.dropna(inplace=True)\n",
    "    prices_array = np.array([[q] for q in df_determination[column_name_log_return].values])\n",
    "    return df_determination, prices_array"
   ]
  },
  {
   "cell_type": "code",
   "execution_count": 5,
   "id": "3fb21e5d-555d-43a7-9d17-0a6bb99e945d",
   "metadata": {},
   "outputs": [
    {
     "name": "stdout",
     "output_type": "stream",
     "text": [
      "<class 'pandas.core.frame.DataFrame'>\n",
      "DatetimeIndex: 332 entries, 2017-01-09 to 2023-05-15\n",
      "Columns: 192 entries, AdrActCnt to ReferenceRate_log_return\n",
      "dtypes: float64(192)\n",
      "memory usage: 500.6 KB\n"
     ]
    }
   ],
   "source": [
    "df_determination, prices_array = data_preparation(df_determination, 7)\n",
    "df_determination.info()"
   ]
  },
  {
   "cell_type": "code",
   "execution_count": 6,
   "id": "d368f8d0-4dc2-4de8-8620-72300e1fd9e3",
   "metadata": {},
   "outputs": [],
   "source": [
    "# Adapted from Aramyan et al. (2023): https://developers.lseg.com/en/article-catalog/article/market-regime-detection\n",
    "class RegimeDetection:\n",
    "    \n",
    "    def get_regimes_hmm(self, input_data, params):\n",
    "        # Initializes a Gaussian Hidden Markov Model (HMM) using the input data and parameters\n",
    "        hmm_model = self.initialise_model(GaussianHMM(), params).fit(input_data)\n",
    "        return hmm_model\n",
    "    \n",
    "    def get_regimes_clustering(self, params):\n",
    "        # Initializes an Agglomerative Clustering model using the specified parameters\n",
    "        clustering = self.initialise_model(AgglomerativeClustering(), params)\n",
    "        return clustering\n",
    "    \n",
    "    def get_regimes_gmm(self, input_data, params):\n",
    "        # Initializes a Gaussian Mixture Model (GMM) using the input data and parameters\n",
    "        gmm = self.initialise_model(GaussianMixture(), params).fit(input_data)\n",
    "        return gmm\n",
    "    \n",
    "    def get_regimes_kmeans(self, params):\n",
    "        # Initializes an Agglomerative Clustering model using the specified parameters\n",
    "        kmeans = self.initialise_model(KMeans(), params)\n",
    "        return kmeans\n",
    "    \n",
    "    def initialise_model(self, model, params):\n",
    "        # Sets the model's parameters based on the input dictionary\n",
    "        for parameter, value in params.items():\n",
    "            setattr(model, parameter, value)\n",
    "            # Returns the initialized model\n",
    "            return model"
   ]
  },
  {
   "cell_type": "code",
   "execution_count": 7,
   "id": "56eb6ac3-a612-4982-90c9-eb8fb42b2664",
   "metadata": {},
   "outputs": [],
   "source": [
    "def plot_hidden_states(hidden_states, df_determination, title=None, fname = None):\n",
    "\n",
    "    # Set the global font size\n",
    "    plt.rcParams.update({'font.size': 16})\n",
    "    \n",
    "    # Get the number of unique hidden states\n",
    "    n_components = len(np.unique(hidden_states))\n",
    "\n",
    "    # Define colors for each regime\n",
    "    # Have to perform this check, because HMM uses different assignment order\n",
    "    if title == \"HMM\":\n",
    "        colors = {0: 'red', 1: 'green'}\n",
    "    else:\n",
    "        colors = {0: 'green', 1: 'red'}\n",
    "\n",
    "    # Define legend labels\n",
    "    # Have to perform this check, because HMM uses different assignment order\n",
    "    if title == \"HMM\":\n",
    "        legend_labels = {1: 'Bull', 0: 'Bear'}\n",
    "    else:\n",
    "        legend_labels = {0: 'Bull', 1: 'Bear'}\n",
    "\n",
    "    # Create a figure\n",
    "    plt.figure(figsize=(14, 10))\n",
    "\n",
    "    # Iterate over each hidden state\n",
    "    for i in range(n_components):\n",
    "        # Create a boolean mask for the current hidden state\n",
    "        mask = hidden_states == i\n",
    "        # Scatter plot the data points corresponding to the current hidden state\n",
    "        plt.scatter(df_determination.index[mask], df_determination['ReferenceRate'].values[mask], c=colors[i],\n",
    "                    label= legend_labels[i] + f' ({len(df_determination.index[mask])} observations)', linewidth=3, s=4)\n",
    "    plt.xlabel('Date')\n",
    "    plt.ylabel('Price')\n",
    "    plt.grid(True)\n",
    "    plt.legend()\n",
    "    if title:\n",
    "        plt.title(title)  # Set the title if provided\n",
    "    plt.savefig(fname, dpi = 300, bbox_inches='tight', pad_inches = 0.025)\n",
    "    plt.show()"
   ]
  },
  {
   "cell_type": "code",
   "execution_count": 8,
   "id": "af108a89-69cd-4458-b06a-cc6bbeab963b",
   "metadata": {},
   "outputs": [],
   "source": [
    "regime_detection = RegimeDetection()"
   ]
  },
  {
   "cell_type": "markdown",
   "id": "81d6a526-1a9d-4f84-9dcc-ddf1558058da",
   "metadata": {
    "tags": []
   },
   "source": [
    "### Detection of market regimes using Agglomerative Clustering:"
   ]
  },
  {
   "cell_type": "code",
   "execution_count": 9,
   "id": "d4dd36ea-db53-4ad6-8657-d7ca29a84c7d",
   "metadata": {},
   "outputs": [
    {
     "data": {
      "image/png": "[encoded data removed]",
      "text/plain": [
       "<Figure size 1008x720 with 1 Axes>"
      ]
     },
     "metadata": {
      "needs_background": "light"
     },
     "output_type": "display_data"
    }
   ],
   "source": [
    "# Adapted from Aramyan et al. (2023): https://developers.lseg.com/en/article-catalog/article/market-regime-detection\n",
    "params = {'n_clusters': 2, 'affinity': 'manhattan', 'metric': 'manhattan'}\n",
    "\n",
    "clustering = regime_detection.get_regimes_clustering(params)\n",
    "clustering_states = clustering.fit_predict(prices_array)\n",
    "# Assign the predicted hidden states to the DataFrame as the MarketRegime column\n",
    "df_agglo = df_determination.copy()\n",
    "df_agglo['MarketRegime'] = clustering_states\n",
    "plot_hidden_states(np.array(clustering_states), df_agglo, title=\"Agglomerative Clustering\", fname=\"AgglomerativeClustering2\")"
   ]
  },
  {
   "cell_type": "code",
   "execution_count": 10,
   "id": "f7ea5cf6-8797-41f8-9b6c-96f9ce6f15ae",
   "metadata": {},
   "outputs": [
    {
     "data": {
      "text/html": [
       "<div>\n",
       "<style scoped>\n",
       "    .dataframe tbody tr th:only-of-type {\n",
       "        vertical-align: middle;\n",
       "    }\n",
       "\n",
       "    .dataframe tbody tr th {\n",
       "        vertical-align: top;\n",
       "    }\n",
       "\n",
       "    .dataframe thead tr th {\n",
       "        text-align: left;\n",
       "    }\n",
       "\n",
       "    .dataframe thead tr:last-of-type th {\n",
       "        text-align: right;\n",
       "    }\n",
       "</style>\n",
       "<table border=\"1\" class=\"dataframe\">\n",
       "  <thead>\n",
       "    <tr>\n",
       "      <th></th>\n",
       "      <th colspan=\"3\" halign=\"left\">target</th>\n",
       "    </tr>\n",
       "    <tr>\n",
       "      <th></th>\n",
       "      <th>mean</th>\n",
       "      <th>std</th>\n",
       "      <th>count</th>\n",
       "    </tr>\n",
       "    <tr>\n",
       "      <th>MarketRegime</th>\n",
       "      <th></th>\n",
       "      <th></th>\n",
       "      <th></th>\n",
       "    </tr>\n",
       "  </thead>\n",
       "  <tbody>\n",
       "    <tr>\n",
       "      <th>0</th>\n",
       "      <td>0.019873</td>\n",
       "      <td>0.178411</td>\n",
       "      <td>238</td>\n",
       "    </tr>\n",
       "    <tr>\n",
       "      <th>1</th>\n",
       "      <td>0.002424</td>\n",
       "      <td>0.079628</td>\n",
       "      <td>93</td>\n",
       "    </tr>\n",
       "  </tbody>\n",
       "</table>\n",
       "</div>"
      ],
      "text/plain": [
       "                target                \n",
       "                  mean       std count\n",
       "MarketRegime                          \n",
       "0             0.019873  0.178411   238\n",
       "1             0.002424  0.079628    93"
      ]
     },
     "execution_count": 10,
     "metadata": {},
     "output_type": "execute_result"
    }
   ],
   "source": [
    "df_agglo[['target']] = df_agglo[['ReferenceRate']].pct_change().shift(-1)\n",
    "df_agglo.groupby('MarketRegime').agg({'target':['mean', 'std', 'count']})"
   ]
  },
  {
   "cell_type": "markdown",
   "id": "20abe578-6643-44ac-a779-29d7babdb6b0",
   "metadata": {},
   "source": [
    "### Detection of market regimes using K-means:"
   ]
  },
  {
   "cell_type": "code",
   "execution_count": 11,
   "id": "616b052d-80d0-497e-af8a-13903263755b",
   "metadata": {},
   "outputs": [
    {
     "name": "stderr",
     "output_type": "stream",
     "text": [
      "/home/lmilo_ext/miniconda3/envs/thesis/lib/python3.11/site-packages/sklearn/cluster/_kmeans.py:870: FutureWarning: The default value of `n_init` will change from 10 to 'auto' in 1.4. Set the value of `n_init` explicitly to suppress the warning\n",
      "  warnings.warn(\n"
     ]
    },
    {
     "data": {
      "image/png": "[encoded data removed]",
      "text/plain": [
       "<Figure size 1008x720 with 1 Axes>"
      ]
     },
     "metadata": {
      "needs_background": "light"
     },
     "output_type": "display_data"
    }
   ],
   "source": [
    "params = {'n_clusters': 2, 'n_init': 'auto', 'max_iter':1000, 'random_state':42}\n",
    "\n",
    "kmeans = regime_detection.get_regimes_kmeans(params)\n",
    "kmeans_states = kmeans.fit_predict(prices_array)\n",
    "# Assign the predicted hidden states to the DataFrame as the MarketRegime column\n",
    "df_kmeans = df_determination.copy()\n",
    "df_kmeans['MarketRegime'] = kmeans_states\n",
    "plot_hidden_states(np.array(kmeans_states), df_kmeans, title=\"K-means\", fname=\"K-means2\")\n",
    "# The K-means algorithm can be sensitive to the initial placement of cluster centroids, and it might produce different results even when a random_state is set.\n",
    "# Hence might need to execute several times before getting same color assignment to the regimes as for the other methods."
   ]
  },
  {
   "cell_type": "code",
   "execution_count": 12,
   "id": "91ccaf50-09a4-4aec-85e3-6c681337654c",
   "metadata": {},
   "outputs": [
    {
     "data": {
      "text/html": [
       "<div>\n",
       "<style scoped>\n",
       "    .dataframe tbody tr th:only-of-type {\n",
       "        vertical-align: middle;\n",
       "    }\n",
       "\n",
       "    .dataframe tbody tr th {\n",
       "        vertical-align: top;\n",
       "    }\n",
       "\n",
       "    .dataframe thead tr th {\n",
       "        text-align: left;\n",
       "    }\n",
       "\n",
       "    .dataframe thead tr:last-of-type th {\n",
       "        text-align: right;\n",
       "    }\n",
       "</style>\n",
       "<table border=\"1\" class=\"dataframe\">\n",
       "  <thead>\n",
       "    <tr>\n",
       "      <th></th>\n",
       "      <th colspan=\"3\" halign=\"left\">target</th>\n",
       "    </tr>\n",
       "    <tr>\n",
       "      <th></th>\n",
       "      <th>mean</th>\n",
       "      <th>std</th>\n",
       "      <th>count</th>\n",
       "    </tr>\n",
       "    <tr>\n",
       "      <th>MarketRegime</th>\n",
       "      <th></th>\n",
       "      <th></th>\n",
       "      <th></th>\n",
       "    </tr>\n",
       "  </thead>\n",
       "  <tbody>\n",
       "    <tr>\n",
       "      <th>0</th>\n",
       "      <td>0.016452</td>\n",
       "      <td>0.100096</td>\n",
       "      <td>145</td>\n",
       "    </tr>\n",
       "    <tr>\n",
       "      <th>1</th>\n",
       "      <td>0.013815</td>\n",
       "      <td>0.190366</td>\n",
       "      <td>186</td>\n",
       "    </tr>\n",
       "  </tbody>\n",
       "</table>\n",
       "</div>"
      ],
      "text/plain": [
       "                target                \n",
       "                  mean       std count\n",
       "MarketRegime                          \n",
       "0             0.016452  0.100096   145\n",
       "1             0.013815  0.190366   186"
      ]
     },
     "execution_count": 12,
     "metadata": {},
     "output_type": "execute_result"
    }
   ],
   "source": [
    "df_kmeans[['target']] = df_kmeans[['ReferenceRate']].pct_change().shift(-1)\n",
    "df_kmeans.groupby('MarketRegime').agg({'target':['mean', 'std', 'count']})"
   ]
  },
  {
   "cell_type": "markdown",
   "id": "edde0930-cbb2-413f-a46e-0effe0f7a15a",
   "metadata": {
    "tags": []
   },
   "source": [
    "### Detection of market regimes using GMM:"
   ]
  },
  {
   "cell_type": "code",
   "execution_count": 13,
   "id": "fe0040c8-c9e4-40ad-addf-700cc4da867d",
   "metadata": {},
   "outputs": [
    {
     "data": {
      "image/png": "[encoded data removed]",
      "text/plain": [
       "<Figure size 1008x720 with 1 Axes>"
      ]
     },
     "metadata": {
      "needs_background": "light"
     },
     "output_type": "display_data"
    }
   ],
   "source": [
    "# Set the random seed\n",
    "np.random.seed(33)\n",
    "# Adapted from Aramyan et al. (2023): https://developers.lseg.com/en/article-catalog/article/market-regime-detection\n",
    "params = {'n_components':2, 'num_init':300, 'init_params': 'random'}\n",
    "gmm_model = regime_detection.get_regimes_gmm(prices_array, params)\n",
    "gmm_states = gmm_model.predict(prices_array)\n",
    "# Assign the predicted hidden states to the DataFrame as the MarketRegime column\n",
    "df_gmm = df_determination.copy()\n",
    "df_gmm['MarketRegime'] = gmm_states\n",
    "plot_hidden_states(np.array(gmm_states), df_gmm, title=\"GMM\", fname=\"GMM2\")"
   ]
  },
  {
   "cell_type": "code",
   "execution_count": 14,
   "id": "f523af38-e970-44b1-81f7-457736d3aafd",
   "metadata": {},
   "outputs": [
    {
     "data": {
      "text/html": [
       "<div>\n",
       "<style scoped>\n",
       "    .dataframe tbody tr th:only-of-type {\n",
       "        vertical-align: middle;\n",
       "    }\n",
       "\n",
       "    .dataframe tbody tr th {\n",
       "        vertical-align: top;\n",
       "    }\n",
       "\n",
       "    .dataframe thead tr th {\n",
       "        text-align: left;\n",
       "    }\n",
       "\n",
       "    .dataframe thead tr:last-of-type th {\n",
       "        text-align: right;\n",
       "    }\n",
       "</style>\n",
       "<table border=\"1\" class=\"dataframe\">\n",
       "  <thead>\n",
       "    <tr>\n",
       "      <th></th>\n",
       "      <th colspan=\"3\" halign=\"left\">target</th>\n",
       "    </tr>\n",
       "    <tr>\n",
       "      <th></th>\n",
       "      <th>mean</th>\n",
       "      <th>std</th>\n",
       "      <th>count</th>\n",
       "    </tr>\n",
       "    <tr>\n",
       "      <th>MarketRegime</th>\n",
       "      <th></th>\n",
       "      <th></th>\n",
       "      <th></th>\n",
       "    </tr>\n",
       "  </thead>\n",
       "  <tbody>\n",
       "    <tr>\n",
       "      <th>0</th>\n",
       "      <td>0.026281</td>\n",
       "      <td>0.122543</td>\n",
       "      <td>78</td>\n",
       "    </tr>\n",
       "    <tr>\n",
       "      <th>1</th>\n",
       "      <td>0.011483</td>\n",
       "      <td>0.166407</td>\n",
       "      <td>253</td>\n",
       "    </tr>\n",
       "  </tbody>\n",
       "</table>\n",
       "</div>"
      ],
      "text/plain": [
       "                target                \n",
       "                  mean       std count\n",
       "MarketRegime                          \n",
       "0             0.026281  0.122543    78\n",
       "1             0.011483  0.166407   253"
      ]
     },
     "execution_count": 14,
     "metadata": {},
     "output_type": "execute_result"
    }
   ],
   "source": [
    "df_gmm[['target']] = df_gmm[['ReferenceRate']].pct_change().shift(-1)\n",
    "df_gmm.groupby('MarketRegime').agg({'target':['mean', 'std', 'count']})"
   ]
  },
  {
   "cell_type": "markdown",
   "id": "15c6ab64-e77d-4868-9ff0-93b16fc2ba77",
   "metadata": {
    "tags": []
   },
   "source": [
    "### Detection of market regimes using HMM:"
   ]
  },
  {
   "cell_type": "code",
   "execution_count": 15,
   "id": "3723d929-3683-4e3b-a1aa-7c985674ce62",
   "metadata": {},
   "outputs": [
    {
     "data": {
      "image/png": "[encoded data removed]",
      "text/plain": [
       "<Figure size 1008x720 with 1 Axes>"
      ]
     },
     "metadata": {
      "needs_background": "light"
     },
     "output_type": "display_data"
    }
   ],
   "source": [
    "# Seed for reproducibility\n",
    "np.random.seed(33)\n",
    "\n",
    "# Define the number of random restarts\n",
    "num_restarts = 200\n",
    "\n",
    "# Initialize variables to store the best model and its log-likelihood\n",
    "best_model = None\n",
    "best_log_likelihood = -np.inf\n",
    "\n",
    "# Initialize a new DataFrame to store the market regime labels\n",
    "df_hmm = df_determination.copy()\n",
    "df_hmm['MarketRegime'] = np.nan\n",
    "\n",
    "# Perform multiple random restarts\n",
    "for i in range(num_restarts):\n",
    "    # Initialize the HMM with 2 states\n",
    "    params = {'n_components': 2, 'covariance_type': 'full', 'random_state': i}\n",
    "\n",
    "    # Create and fit the HMM\n",
    "    hmm_model = regime_detection.get_regimes_hmm(prices_array, params)\n",
    "    hmm_model.fit(prices_array)\n",
    "\n",
    "    # Calculate the log-likelihood of the trained model\n",
    "    log_likelihood = hmm_model.score(prices_array)\n",
    "\n",
    "    # Check if this model has a higher log-likelihood than the previous best model\n",
    "    if log_likelihood > best_log_likelihood:\n",
    "        best_model = hmm_model\n",
    "        best_log_likelihood = log_likelihood\n",
    "\n",
    "# Use the best model for determination\n",
    "hmm_states = best_model.predict(prices_array)\n",
    "# Assign the predicted hidden states to the DataFrame as the MarketRegime column\n",
    "df_hmm['MarketRegime'] = hmm_states\n",
    "# Plot the distribution\n",
    "plot_hidden_states(np.array(hmm_states), df_hmm, title=\"HMM\", fname=\"HMM2\")"
   ]
  },
  {
   "cell_type": "code",
   "execution_count": 16,
   "id": "455c282a-a095-41de-80fd-c4d51be8675a",
   "metadata": {},
   "outputs": [
    {
     "data": {
      "text/html": [
       "<div>\n",
       "<style scoped>\n",
       "    .dataframe tbody tr th:only-of-type {\n",
       "        vertical-align: middle;\n",
       "    }\n",
       "\n",
       "    .dataframe tbody tr th {\n",
       "        vertical-align: top;\n",
       "    }\n",
       "\n",
       "    .dataframe thead tr th {\n",
       "        text-align: left;\n",
       "    }\n",
       "\n",
       "    .dataframe thead tr:last-of-type th {\n",
       "        text-align: right;\n",
       "    }\n",
       "</style>\n",
       "<table border=\"1\" class=\"dataframe\">\n",
       "  <thead>\n",
       "    <tr>\n",
       "      <th></th>\n",
       "      <th colspan=\"3\" halign=\"left\">target</th>\n",
       "    </tr>\n",
       "    <tr>\n",
       "      <th></th>\n",
       "      <th>mean</th>\n",
       "      <th>std</th>\n",
       "      <th>count</th>\n",
       "    </tr>\n",
       "    <tr>\n",
       "      <th>MarketRegime</th>\n",
       "      <th></th>\n",
       "      <th></th>\n",
       "      <th></th>\n",
       "    </tr>\n",
       "  </thead>\n",
       "  <tbody>\n",
       "    <tr>\n",
       "      <th>0</th>\n",
       "      <td>-0.011260</td>\n",
       "      <td>0.077469</td>\n",
       "      <td>168</td>\n",
       "    </tr>\n",
       "    <tr>\n",
       "      <th>1</th>\n",
       "      <td>0.042006</td>\n",
       "      <td>0.206538</td>\n",
       "      <td>163</td>\n",
       "    </tr>\n",
       "  </tbody>\n",
       "</table>\n",
       "</div>"
      ],
      "text/plain": [
       "                target                \n",
       "                  mean       std count\n",
       "MarketRegime                          \n",
       "0            -0.011260  0.077469   168\n",
       "1             0.042006  0.206538   163"
      ]
     },
     "execution_count": 16,
     "metadata": {},
     "output_type": "execute_result"
    }
   ],
   "source": [
    "df_hmm[['target']] = df_hmm[['ReferenceRate']].pct_change().shift(-1)\n",
    "df_hmm.groupby('MarketRegime').agg({'target':['mean', 'std', 'count']})"
   ]
  },
  {
   "cell_type": "code",
   "execution_count": null,
   "id": "6766f203-c15e-4d2c-8abe-6cac4ff63825",
   "metadata": {},
   "outputs": [],
   "source": [
    "# Print the modified DataFrame with MarketRegime column\n",
    "df_hmm.drop(columns=['target'], inplace=True)\n",
    "df_hmm.info()"
   ]
  },
  {
   "cell_type": "code",
   "execution_count": null,
   "id": "c9d57c39-7a83-4b6f-8b95-2006871abbd2",
   "metadata": {},
   "outputs": [],
   "source": [
    "output_folder = '/home/lmilo_ext/Data/'\n",
    "output_filename = 'labeled_data_2states.csv'\n",
    "\n",
    "# Combine the folder path and filename\n",
    "output_path = output_folder + output_filename\n",
    "df_hmm['date'] = df_hmm.index\n",
    "df_hmm.to_csv(output_path, index=False)"
   ]
  },
  {
   "cell_type": "code",
   "execution_count": null,
   "id": "b64b87a2-f348-4980-9e42-f5411db763d9",
   "metadata": {},
   "outputs": [],
   "source": []
  }
 ],
 "metadata": {
  "kernelspec": {
   "display_name": "thesis",
   "language": "python",
   "name": "thesis"
  },
  "language_info": {
   "codemirror_mode": {
    "name": "ipython",
    "version": 3
   },
   "file_extension": ".py",
   "mimetype": "text/x-python",
   "name": "python",
   "nbconvert_exporter": "python",
   "pygments_lexer": "ipython3",
   "version": "3.11.3"
  }
 },
 "nbformat": 4,
 "nbformat_minor": 5
}
